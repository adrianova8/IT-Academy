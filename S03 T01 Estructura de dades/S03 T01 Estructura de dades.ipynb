{
 "cells": [
  {
   "cell_type": "markdown",
   "id": "62cb34c7",
   "metadata": {},
   "source": [
    "# Exercise 1\n",
    "\n",
    "## Create a list that groups the months of the year into quarters (Q1: January, February and March, Q2: April, May, June ...), that is, a list with 4 lists inside.\n",
    "\n"
   ]
  },
  {
   "cell_type": "code",
   "execution_count": 3,
   "id": "e0d8c7b9",
   "metadata": {},
   "outputs": [
    {
     "name": "stdout",
     "output_type": "stream",
     "text": [
      "[['January', 'February', 'March'], ['April', 'May', 'June'], ['July', 'August', 'September'], ['October', 'November', 'December']]\n"
     ]
    }
   ],
   "source": [
    "monthList=[]\n",
    "monthList.append([\"January\",\"February\",\"March\"])\n",
    "monthList.append([\"April\",\"May\",\"June\"])\n",
    "monthList.append([\"July\",\"August\",\"September\"])\n",
    "monthList.append([\"October\",\"November\",\"December\"])\n",
    "\n",
    "print(monthList)\n",
    "\n"
   ]
  },
  {
   "cell_type": "markdown",
   "id": "cddb09e5",
   "metadata": {},
   "source": [
    "# Exercise 2\n",
    "\n",
    "## Create a code that allows you to access:\n",
    "\n",
    "      - The second month of the first trimester\n",
    "      - The months of the first trimester\n",
    "      - September and October"
   ]
  },
  {
   "cell_type": "code",
   "execution_count": 13,
   "id": "c708a62c",
   "metadata": {},
   "outputs": [
    {
     "name": "stdout",
     "output_type": "stream",
     "text": [
      "February\n"
     ]
    }
   ],
   "source": [
    "#[0] [0] : El primer 0 se refire a la lista y el segundo 0 se refiere al primer elemento de esa lista\n",
    "\n",
    "#To access to the second month of the first quarter we do:\n",
    "print(monthList[0][1])"
   ]
  },
  {
   "cell_type": "code",
   "execution_count": 14,
   "id": "f78838dc",
   "metadata": {},
   "outputs": [
    {
     "name": "stdout",
     "output_type": "stream",
     "text": [
      "['January', 'February', 'March']\n"
     ]
    }
   ],
   "source": [
    "#To access the months of the first quarter\n",
    "print(monthList[0])"
   ]
  },
  {
   "cell_type": "code",
   "execution_count": 18,
   "id": "c663664d",
   "metadata": {},
   "outputs": [
    {
     "name": "stdout",
     "output_type": "stream",
     "text": [
      "September October\n"
     ]
    }
   ],
   "source": [
    "#To access to Semptember and October\n",
    "print(monthList[2][2], monthList[3][0])"
   ]
  },
  {
   "cell_type": "markdown",
   "id": "ef52635d",
   "metadata": {},
   "source": [
    "## Create a list within another list using for\n"
   ]
  },
  {
   "cell_type": "code",
   "execution_count": 25,
   "id": "173096cb",
   "metadata": {},
   "outputs": [
    {
     "name": "stdout",
     "output_type": "stream",
     "text": [
      "Introduce the month: January\n",
      "Introduce the month: February\n",
      "Introduce the month: March\n",
      "Introduce the month: April\n",
      "Introduce the month: May\n",
      "Introduce the month: June\n",
      "Introduce the month: July\n",
      "Introduce the month: August\n",
      "Introduce the month: September\n",
      "Introduce the month: October\n",
      "Introduce the month: November\n",
      "Introduce the month: December\n",
      "[['January', 'February', 'March'], ['April', 'May', 'June'], ['July', 'August', 'September'], ['October', 'November', 'December']]\n"
     ]
    }
   ],
   "source": [
    "anotherList=[]\n",
    "for i in range(4):\n",
    "    anotherList.append([])\n",
    "    for j in range(3):\n",
    "        anotherList[i].append(input(\"Introduce the month in order: \"))\n",
    "print(anotherList)\n",
    "        "
   ]
  },
  {
   "cell_type": "code",
   "execution_count": 26,
   "id": "e246ba4f",
   "metadata": {},
   "outputs": [
    {
     "name": "stdout",
     "output_type": "stream",
     "text": [
      "February\n"
     ]
    }
   ],
   "source": [
    "print(anotherList[0][1])"
   ]
  },
  {
   "cell_type": "code",
   "execution_count": 27,
   "id": "8c77940c",
   "metadata": {},
   "outputs": [
    {
     "name": "stdout",
     "output_type": "stream",
     "text": [
      "['January', 'February', 'March']\n"
     ]
    }
   ],
   "source": [
    "print(monthList[0])"
   ]
  },
  {
   "cell_type": "code",
   "execution_count": 31,
   "id": "d0f6a8d2",
   "metadata": {},
   "outputs": [
    {
     "name": "stdout",
     "output_type": "stream",
     "text": [
      "September October\n"
     ]
    }
   ],
   "source": [
    "print(monthList[2][2], monthList[3][0])"
   ]
  },
  {
   "cell_type": "markdown",
   "id": "f6da6320",
   "metadata": {},
   "source": [
    "# Exercise 3"
   ]
  },
  {
   "cell_type": "markdown",
   "id": "61c5bb4f",
   "metadata": {},
   "source": [
    "## Create a list of disordered numbers and answer the following questions:\n",
    "\n",
    "    1. How many numbers are there?\n",
    "    2. How many times does the number 3 appear\n",
    "    3. How often do the numbers 3 and 4 appear?\n",
    "    4. What is the largest number?\n",
    "    5. What are the 3 smallest numbers?\n",
    "    6. What is the rank of this list?"
   ]
  },
  {
   "cell_type": "code",
   "execution_count": 2,
   "id": "10a3a346",
   "metadata": {},
   "outputs": [
    {
     "name": "stdout",
     "output_type": "stream",
     "text": [
      "Introduce the value: 1\n",
      "Introduce the value: 2\n",
      "Introduce the value: 3\n",
      "['1', '2', '3']\n"
     ]
    }
   ],
   "source": [
    "#The user create a random list with numbers\n",
    "from random import randint, uniform,random\n",
    "\n",
    "numberList=[]\n",
    "x=randint(0,10)\n",
    "for i in range(x):\n",
    "    numberList.append(input(\"Introduce the value: \"))\n",
    "print(numberList)"
   ]
  },
  {
   "cell_type": "code",
   "execution_count": 3,
   "id": "8d2db29d",
   "metadata": {},
   "outputs": [
    {
     "name": "stdout",
     "output_type": "stream",
     "text": [
      "There are 3 numbers\n"
     ]
    }
   ],
   "source": [
    "# 1. How many numbers are there?\n",
    "print(\"There are \" + str(len(numberList)) + \" numbers\")"
   ]
  },
  {
   "cell_type": "code",
   "execution_count": 5,
   "id": "089b4aa4",
   "metadata": {},
   "outputs": [
    {
     "name": "stdout",
     "output_type": "stream",
     "text": [
      "The number 3 appears 1 times\n"
     ]
    }
   ],
   "source": [
    "# 2. How many times does the number 3 appear\n",
    "print(\"The number 3 appears \" + str(numberList.count(\"3\")) + \" times\")"
   ]
  },
  {
   "cell_type": "code",
   "execution_count": 4,
   "id": "b34a598d",
   "metadata": {},
   "outputs": [
    {
     "name": "stdout",
     "output_type": "stream",
     "text": [
      "The number 3 appears 1 times\n",
      "The number 4 appears 0 times\n"
     ]
    }
   ],
   "source": [
    "# 3. How often do the numbers 3 and 4 appear?\n",
    "print(\"The number 3 appears \" + str(numberList.count(\"3\")) + \" times\")\n",
    "print(\"The number 4 appears \" + str(numberList.count(\"4\")) + \" times\")"
   ]
  },
  {
   "cell_type": "code",
   "execution_count": 97,
   "id": "81d81ec0",
   "metadata": {},
   "outputs": [
    {
     "name": "stdout",
     "output_type": "stream",
     "text": [
      "The largest number is 2\n"
     ]
    }
   ],
   "source": [
    "# 4. What is the largest number?\n",
    "print(\"The largest number is \" + str(max(numberList)))"
   ]
  },
  {
   "cell_type": "code",
   "execution_count": 93,
   "id": "35269f53",
   "metadata": {
    "code_folding": []
   },
   "outputs": [
    {
     "name": "stdout",
     "output_type": "stream",
     "text": [
      "The 3 smallest numbers are ['-34', '0', '2']\n"
     ]
    }
   ],
   "source": [
    "# 5. What are the 3 smallest numbers?\n",
    "numberList.sort()\n",
    "#The order is from lowest to highest\n",
    "print(\"The 3 smallest numbers are \" + str(numberList[:3]))"
   ]
  },
  {
   "cell_type": "code",
   "execution_count": 6,
   "id": "6051430d",
   "metadata": {},
   "outputs": [
    {
     "name": "stdout",
     "output_type": "stream",
     "text": [
      "The range of this list is 2\n"
     ]
    }
   ],
   "source": [
    "# 6. What is the rank of this list?\n",
    "numberListRange=int(max(numberList))- int(min(numberList))\n",
    "print(\"The range of this list is \" + str(numberListRange))"
   ]
  },
  {
   "cell_type": "markdown",
   "id": "14d7bd29",
   "metadata": {},
   "source": [
    "# Exercise 4\n",
    "\n",
    "## Create a dictionary  and answer the questions:\n",
    "\n",
    "    1. Add some more fruit\n",
    "    2. How much did the pears cost in total?\n",
    "    3. How many fruits did we buy in total?\n",
    "    4. What is the most expensive fruit?"
   ]
  },
  {
   "cell_type": "code",
   "execution_count": 8,
   "id": "a73f8f4b",
   "metadata": {
    "code_folding": []
   },
   "outputs": [
    {
     "name": "stdout",
     "output_type": "stream",
     "text": [
      "dict_keys(['Apples', 'Pears', 'Bananas', 'Pineapples', 'Watermelons', 'Peachs'])\n"
     ]
    }
   ],
   "source": [
    "# 1. Add some more fruit\n",
    "thisDict={\n",
    "    \"Apples\":{\"Qty\":5, \"€\":0.42}, \n",
    "    \"Pears\":{\"Qty\":3,\"€\":0.66}\n",
    "}\n",
    "\n",
    "#Add new fruits to the dictionary\n",
    "thisDict[\"Bananas\"]={\"Qty\":6, \"€\":0.34}\n",
    "thisDict[\"Pineapples\"]={\"Qty\":2, \"€\":0.83}\n",
    "thisDict[\"Watermelons\"]={\"Qty\":2, \"€\":0.96}\n",
    "thisDict[\"Peachs\"]={\"Qty\":8, \"€\":0.21}\n",
    "\n",
    "print(thisDict.keys())"
   ]
  },
  {
   "cell_type": "code",
   "execution_count": 9,
   "id": "b392b195",
   "metadata": {},
   "outputs": [
    {
     "name": "stdout",
     "output_type": "stream",
     "text": [
      "The pears cost is 1.98€\n",
      "The pears cost is 1.98€\n"
     ]
    }
   ],
   "source": [
    "# 2. How much did the pears cost in total?\n",
    "x= thisDict.get(\"Pears\").get(\"Qty\")\n",
    "y= thisDict.get(\"Pears\").get(\"€\")\n",
    "\n",
    "pearsCost=x*y\n",
    "print(\"The pears cost is \" + str(pearsCost) + \"€\")\n",
    "\n",
    "#Another methodology\n",
    "pearsPrice = thisDict[\"Pears\"][\"Qty\"] * thisDict[\"Pears\"][\"€\"]\n",
    "print(\"The pears cost is \" + str(pearsPrice) + \"€\")\n"
   ]
  },
  {
   "cell_type": "code",
   "execution_count": 15,
   "id": "98193194",
   "metadata": {},
   "outputs": [
    {
     "name": "stdout",
     "output_type": "stream",
     "text": [
      "We have bought 26 pieces in total\n",
      "We have bought 6 diferent pieces of fruits\n"
     ]
    }
   ],
   "source": [
    "# 3. How many fruits did we buy in total?\n",
    "\n",
    "#First methodology (says the global quantity of pieces we have bought)\n",
    "meter=0\n",
    "for key1,key2 in thisDict.items():\n",
    "    meter=thisDict[key1][\"Qty\"]+meter\n",
    "\n",
    "print(\"We have bought \" + str(meter) + \" pieces in total\")\n",
    "\n",
    "#Second methodolody (says different types of fruit we have bought)\n",
    "\n",
    "print(\"We have bought \" + str(len(thisDict)) + \" diferent pieces of fruits\")"
   ]
  },
  {
   "cell_type": "code",
   "execution_count": 17,
   "id": "36a25a0c",
   "metadata": {},
   "outputs": [
    {
     "name": "stdout",
     "output_type": "stream",
     "text": [
      "Apples: 2.1\n",
      "Pears: 1.98\n",
      "Bananas: 2.04\n",
      "Pineapples: 1.66\n",
      "Watermelons: 1.92\n",
      "Peachs: 1.68\n",
      "\n",
      "The most expensive fruit is: 2.1€\n",
      "\n",
      "The most expensive fruit is: Watermelons\n"
     ]
    }
   ],
   "source": [
    "# 4. What is the most expensive fruit?\n",
    "\n",
    "#First methodology (says the most expensive fruit in general terms)\n",
    "for key1,key2 in thisDict.items():\n",
    "    print(\"{}: {}\".format(key1,key2[\"Qty\"]* key2[\"€\"]))\n",
    "\n",
    "print()\n",
    "\n",
    "fruitList=[]\n",
    "\n",
    "for key1,key2 in thisDict.items():\n",
    "    fruitList.append(key2[\"Qty\"]* key2[\"€\"])\n",
    "    \n",
    "maxValue=max(fruitList)\n",
    "print(\"The most expensive fruit is: \" + str(maxValue)+ \"€\")\n",
    "print()\n",
    "\n",
    "#Second methodology (says the most expensive fruit in individual terms)\n",
    "expensiveFruit= max(thisDict.items(), key=lambda x: x[1][\"€\"])[0]\n",
    "print(\"The most expensive fruit is: \" + str(expensiveFruit))\n"
   ]
  },
  {
   "cell_type": "code",
   "execution_count": null,
   "id": "6286a390",
   "metadata": {},
   "outputs": [],
   "source": []
  }
 ],
 "metadata": {
  "kernelspec": {
   "display_name": "Python 3",
   "language": "python",
   "name": "python3"
  },
  "language_info": {
   "codemirror_mode": {
    "name": "ipython",
    "version": 3
   },
   "file_extension": ".py",
   "mimetype": "text/x-python",
   "name": "python",
   "nbconvert_exporter": "python",
   "pygments_lexer": "ipython3",
   "version": "3.8.8"
  },
  "toc": {
   "base_numbering": 1,
   "nav_menu": {},
   "number_sections": true,
   "sideBar": true,
   "skip_h1_title": false,
   "title_cell": "Table of Contents",
   "title_sidebar": "Contents",
   "toc_cell": false,
   "toc_position": {
    "height": "calc(100% - 180px)",
    "left": "10px",
    "top": "150px",
    "width": "176px"
   },
   "toc_section_display": true,
   "toc_window_display": true
  }
 },
 "nbformat": 4,
 "nbformat_minor": 5
}
