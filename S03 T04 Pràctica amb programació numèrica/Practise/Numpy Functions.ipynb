{
 "cells": [
  {
   "cell_type": "markdown",
   "id": "da08f4eb",
   "metadata": {},
   "source": [
    "# **Numpy Functions**"
   ]
  },
  {
   "cell_type": "markdown",
   "id": "ff4a553e",
   "metadata": {},
   "source": [
    "Las **ufuncs** son _funciones universales_ y son funciones Numpy que operan en el ndarray.\n"
   ]
  },
  {
   "cell_type": "markdown",
   "id": "4ae3d529",
   "metadata": {},
   "source": [
    "## Vectorización"
   ]
  },
  {
   "cell_type": "markdown",
   "id": "4d8117b5",
   "metadata": {},
   "source": [
    "Conversión de declaraciones iterativas en una operación basada en vectores se denomina vectorización."
   ]
  },
  {
   "cell_type": "code",
   "execution_count": 8,
   "id": "33e251bf",
   "metadata": {},
   "outputs": [
    {
     "name": "stdout",
     "output_type": "stream",
     "text": [
      "[5, 7, 9, 11]\n",
      "[ 5  7  9 11]\n"
     ]
    }
   ],
   "source": [
    "import numpy as np\n",
    "\n",
    "# AGREGAR LOS ELEMENTOS DE DOS LISTAS:\n",
    "list1=[1,2,3,4]\n",
    "list2=[4,5,6,7]\n",
    "z=[]\n",
    "\n",
    "for i, j in zip(list1,list2):\n",
    "    z.append(i+j)\n",
    "print(z)\n",
    "\n",
    "#FUNCION ADD. Suma los valores de lista1 con lista2. \n",
    "\n",
    "z=np.add(list1,list2)\n",
    "print(z)"
   ]
  },
  {
   "cell_type": "code",
   "execution_count": null,
   "id": "ff9078ba",
   "metadata": {},
   "outputs": [],
   "source": []
  }
 ],
 "metadata": {
  "kernelspec": {
   "display_name": "Python 3",
   "language": "python",
   "name": "python3"
  },
  "language_info": {
   "codemirror_mode": {
    "name": "ipython",
    "version": 3
   },
   "file_extension": ".py",
   "mimetype": "text/x-python",
   "name": "python",
   "nbconvert_exporter": "python",
   "pygments_lexer": "ipython3",
   "version": "3.8.8"
  },
  "toc": {
   "base_numbering": 1,
   "nav_menu": {},
   "number_sections": false,
   "sideBar": true,
   "skip_h1_title": false,
   "title_cell": "Table of Contents",
   "title_sidebar": "Contents",
   "toc_cell": false,
   "toc_position": {
    "height": "calc(100% - 180px)",
    "left": "10px",
    "top": "150px",
    "width": "228px"
   },
   "toc_section_display": true,
   "toc_window_display": true
  }
 },
 "nbformat": 4,
 "nbformat_minor": 5
}
