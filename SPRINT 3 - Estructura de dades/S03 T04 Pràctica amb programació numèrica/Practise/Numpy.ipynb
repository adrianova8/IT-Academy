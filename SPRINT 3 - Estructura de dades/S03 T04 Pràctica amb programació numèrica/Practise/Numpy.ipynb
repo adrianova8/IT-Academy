{
 "cells": [
  {
   "cell_type": "markdown",
   "id": "9823bd6e",
   "metadata": {},
   "source": [
    "# **NUMPY**"
   ]
  },
  {
   "cell_type": "code",
   "execution_count": 15,
   "id": "50e73286",
   "metadata": {
    "scrolled": true
   },
   "outputs": [
    {
     "name": "stdout",
     "output_type": "stream",
     "text": [
      "[1 2 3 4 5]\n"
     ]
    }
   ],
   "source": [
    "import numpy as np\n",
    "arr=np.array([1,2,3,4,5])\n",
    "print(arr)"
   ]
  },
  {
   "cell_type": "code",
   "execution_count": 16,
   "id": "87df6dd9",
   "metadata": {},
   "outputs": [
    {
     "name": "stdout",
     "output_type": "stream",
     "text": [
      "1.20.1\n"
     ]
    }
   ],
   "source": [
    "#Comprobación de la versión de Numpy que tenemos en nuestro ordenador\n",
    "print(np.__version__)"
   ]
  },
  {
   "cell_type": "markdown",
   "id": "e2c27c2c",
   "metadata": {},
   "source": [
    "## **Matrices**"
   ]
  },
  {
   "cell_type": "code",
   "execution_count": 17,
   "id": "7c3ddd4f",
   "metadata": {},
   "outputs": [
    {
     "name": "stdout",
     "output_type": "stream",
     "text": [
      "<class 'numpy.ndarray'>\n"
     ]
    }
   ],
   "source": [
    "# Al objeto de matriz en Numpy se le llama (ndarray)\n",
    "\n",
    "print(type(arr)) #La función type nos dice de que tipo es el objeto que le pasamos"
   ]
  },
  {
   "cell_type": "code",
   "execution_count": 18,
   "id": "7fb47568",
   "metadata": {},
   "outputs": [
    {
     "name": "stdout",
     "output_type": "stream",
     "text": [
      "[1 2 3 4 5]\n"
     ]
    }
   ],
   "source": [
    "#Para crear un ndarray, podemos pasar una lista, tupla o cualquier objeto similar a una matriz en el array() método, y se convertirá en un ndarray\n",
    "\n",
    "arr=np.array((1,2,3,4,5)) #Le hemos pasado una lista y la ha convertido en array\n",
    "print(arr)"
   ]
  },
  {
   "cell_type": "markdown",
   "id": "b2695c8d",
   "metadata": {},
   "source": [
    "### Dimension en matrices"
   ]
  },
  {
   "cell_type": "code",
   "execution_count": 19,
   "id": "f965d703",
   "metadata": {},
   "outputs": [
    {
     "name": "stdout",
     "output_type": "stream",
     "text": [
      "<class 'numpy.ndarray'>\n",
      "35\n"
     ]
    }
   ],
   "source": [
    "#MATRIZ 0-D.\n",
    "#Una matriz de 0 dimensiones en un escalar, es decir, el elemento de una matriz\n",
    "#Cada valor de una matriz es una matriz de 0-D\n",
    "\n",
    "a=np.array(35)\n",
    "print(type(a))\n",
    "print(a)"
   ]
  },
  {
   "cell_type": "code",
   "execution_count": 20,
   "id": "26c23b4a",
   "metadata": {},
   "outputs": [
    {
     "name": "stdout",
     "output_type": "stream",
     "text": [
      "[1 2 3 4 5]\n"
     ]
    }
   ],
   "source": [
    "#MATRIZ 1-D.\n",
    "b=np.array([1,2,3,4,5])\n",
    "print(b)"
   ]
  },
  {
   "cell_type": "code",
   "execution_count": 21,
   "id": "876d15ea",
   "metadata": {},
   "outputs": [
    {
     "name": "stdout",
     "output_type": "stream",
     "text": [
      "[[1 2 3]\n",
      " [4 5 6]\n",
      " [7 8 9]]\n"
     ]
    }
   ],
   "source": [
    "#MATRIZ 2-D.\n",
    "#Una matriz que tiene matrices de dimension 1 es una matriz de 2D.\n",
    "#Numpy tiene un submodulo dedicado a operaciones matriciales (numpy.mat)\n",
    "c=np.array([[1,2,3],[4,5,6],[7,8,9]])\n",
    "print(c)"
   ]
  },
  {
   "cell_type": "code",
   "execution_count": 22,
   "id": "50d2b53f",
   "metadata": {},
   "outputs": [
    {
     "name": "stdout",
     "output_type": "stream",
     "text": [
      "[[[ 1  2  3]\n",
      "  [ 4  5  6]]\n",
      "\n",
      " [[ 7  8  9]\n",
      "  [10 11 12]]]\n"
     ]
    }
   ],
   "source": [
    "#MATRIZ 3-D.\n",
    "#Una matriz que tiene matrices 2-D.\n",
    "d=np.array([[[1,2,3],[4,5,6]],[[7,8,9],[10,11,12]]])\n",
    "print(d)"
   ]
  },
  {
   "cell_type": "code",
   "execution_count": 31,
   "id": "a782baec",
   "metadata": {},
   "outputs": [
    {
     "name": "stdout",
     "output_type": "stream",
     "text": [
      "0\n",
      "1\n",
      "2\n",
      "3\n",
      "[[[[[1 2 3 4]]]]]\n",
      "number of dimensions:  5\n"
     ]
    }
   ],
   "source": [
    "#(ndim) esto es un atributo -> nos devuelve el número entero de cuántas dimensiones es nuestra matriz.\n",
    "#Se pueden crear matrices de las dimensiones que nosotros queramos\n",
    "print(a.ndim)\n",
    "print(b.ndim)\n",
    "print(c.ndim)\n",
    "print(d.ndim)\n",
    "\n",
    "array_dim_5=np.array([1,2,3,4], ndmin=5)\n",
    "\n",
    "print(array_dim_5)\n",
    "print('number of dimensions: ', array_dim_5.ndim)"
   ]
  },
  {
   "cell_type": "markdown",
   "id": "b8cd3157",
   "metadata": {},
   "source": [
    "### Indexación de matrices"
   ]
  },
  {
   "cell_type": "markdown",
   "id": "68b07675",
   "metadata": {},
   "source": [
    "Los índices en las matrices Numpy comienzan con el 0, lo que significa que el primer elemento tiene índice 0 y el segundo tiene índice 1"
   ]
  },
  {
   "cell_type": "code",
   "execution_count": 35,
   "id": "0426adb1",
   "metadata": {},
   "outputs": [
    {
     "name": "stdout",
     "output_type": "stream",
     "text": [
      "[1 2 3 4 5]\n",
      "1\n",
      "2\n",
      "7\n"
     ]
    }
   ],
   "source": [
    "# Acceder a un elemento de la matriz\n",
    "print(b)\n",
    "print(b[0]) #1\n",
    "print(b[1]) #2\n",
    "print(b[2] + b[3]) #3+4=7\n",
    "\n"
   ]
  },
  {
   "cell_type": "code",
   "execution_count": 44,
   "id": "f23cf0bf",
   "metadata": {},
   "outputs": [
    {
     "name": "stdout",
     "output_type": "stream",
     "text": [
      "[[1 2 3]\n",
      " [4 5 6]\n",
      " [7 8 9]]\n",
      "2n element on 1st dim:  2\n"
     ]
    }
   ],
   "source": [
    "#Acceder a elementos de una matriz 2-D\n",
    "print(c)\n",
    "print('2n element on 1st dim: ', c[0,1]) #El primer elemento hace referencia a la dimension y el segundo al índice\n"
   ]
  },
  {
   "cell_type": "code",
   "execution_count": 45,
   "id": "632666d4",
   "metadata": {},
   "outputs": [
    {
     "name": "stdout",
     "output_type": "stream",
     "text": [
      "[[[ 1  2  3]\n",
      "  [ 4  5  6]]\n",
      "\n",
      " [[ 7  8  9]\n",
      "  [10 11 12]]]\n"
     ]
    }
   ],
   "source": [
    "#Acceder a elementos de una matriz 3-D\n",
    "#Primero matrices, luego elementos\n",
    "print(d)\n",
    "print(d[0,1,2]) #Acceder al tercer elemento de la segunda matriz de la primera matriz"
   ]
  },
  {
   "cell_type": "code",
   "execution_count": 46,
   "id": "a8bb3c15",
   "metadata": {},
   "outputs": [
    {
     "name": "stdout",
     "output_type": "stream",
     "text": [
      "[[1 2 3]\n",
      " [4 5 6]\n",
      " [7 8 9]]\n"
     ]
    }
   ],
   "source": [
    "#Indexación negativa\n",
    "#Sirve para acceder a una matriz desde el final\n"
   ]
  },
  {
   "cell_type": "code",
   "execution_count": 52,
   "id": "513b1e43",
   "metadata": {},
   "outputs": [
    {
     "name": "stdout",
     "output_type": "stream",
     "text": [
      "[[1 2 3]\n",
      " [4 5 6]\n",
      " [7 8 9]]\n",
      "Last element from 2nd dim:  6\n"
     ]
    }
   ],
   "source": [
    "print(c)\n",
    "print('Last element from 2nd dim: ', c[1,-1])"
   ]
  },
  {
   "cell_type": "markdown",
   "id": "e19ca63c",
   "metadata": {},
   "source": [
    "### Slicing de una matriz"
   ]
  },
  {
   "cell_type": "markdown",
   "id": "dbd56793",
   "metadata": {},
   "source": [
    "Cortar en python significa tomar elementos de un índice dado a otro índice dado.\n",
    "**2 ejemplos usados:**\n",
    "\n",
    "    - [start:end]\n",
    "    - [start:end:step]\n",
    "    \n",
    "- Si no ponemos el inicio se considera 0\n",
    "- Si no ponemos el end, su longitud se considera la de esa dimensión\n",
    "- Si no ponemos el step se considera 1"
   ]
  },
  {
   "cell_type": "code",
   "execution_count": 71,
   "id": "d4f705f5",
   "metadata": {},
   "outputs": [
    {
     "name": "stdout",
     "output_type": "stream",
     "text": [
      "[2 3 4 5]\n",
      "[5 6 7]\n",
      "[1 2 3 4]\n",
      "[3 4]\n"
     ]
    }
   ],
   "source": [
    "array_simple= np.array([1,2,3,4,5,6,7])\n",
    "print(array_simple[1:5]) #Dividir los elementos del índice 1 al 5\n",
    "#El resultado incluye el índice inicial, pero excluye el índice final\n",
    "\n",
    "#otros ejemplos:\n",
    "print(array_simple[4:])\n",
    "print(array_simple[:4])\n",
    "#Slicing negativo\n",
    "print(array_simple[-5:-3]) #Se empieza desde atrás de la matriz\n"
   ]
  },
  {
   "cell_type": "code",
   "execution_count": 74,
   "id": "a0229980",
   "metadata": {},
   "outputs": [
    {
     "name": "stdout",
     "output_type": "stream",
     "text": [
      "[1 2 3 4 5 6 7]\n",
      "[2 4]\n",
      "[1 3 5 7]\n"
     ]
    }
   ],
   "source": [
    "#Step (salto de números)\n",
    "print(array_simple)\n",
    "\n",
    "print(array_simple[1:5:2])\n",
    "print(array_simple[::2])"
   ]
  },
  {
   "cell_type": "code",
   "execution_count": 78,
   "id": "82b664c7",
   "metadata": {},
   "outputs": [
    {
     "name": "stdout",
     "output_type": "stream",
     "text": [
      "[2 3 4]\n",
      "[3 8]\n",
      "[[2 3 4]\n",
      " [7 8 9]]\n"
     ]
    }
   ],
   "source": [
    "#Cortar matrices de 2-D\n",
    "array_compleja=np.array([[1,2,3,4,5],[6,7,8,9,10]])\n",
    "\n",
    "#De la primera matriz, corta del índice 1 al 4\n",
    "print(array_compleja[0, 1:4])\n",
    "\n",
    "#De ambas matrices devuelve el índice 2\n",
    "print(array_compleja[0:2, 2])\n",
    "\n",
    "#De ambas matrices corte del índice 1 al 4.\n",
    "print(array_compleja[0:2, 1:4]) "
   ]
  },
  {
   "cell_type": "markdown",
   "id": "6a4becd1",
   "metadata": {},
   "source": [
    "## **Tipos de datos**"
   ]
  },
  {
   "cell_type": "markdown",
   "id": "987a8518",
   "metadata": {},
   "source": [
    "Numpy tiene algunos tipos de datos adicionales, son un tipo de dato con un carácter.\n",
    "\n",
    "**Los tipos de datos en Numpy y los carácteres usados para representarlos:**\n",
    "\n",
    "- i - entero\n",
    "- b - booleano\n",
    "- u - entero sin signo\n",
    "- f - flotar\n",
    "- c - flotador complejo\n",
    "- m - timedelta\n",
    "- M - fecha y hora\n",
    "- O - objeto\n",
    "- S - cuerda\n",
    "- U - cadena unicode\n",
    "- V - fragmento de memoria fijo para otro tipo (vacío)\n",
    "    "
   ]
  },
  {
   "cell_type": "code",
   "execution_count": 79,
   "id": "e14afba8",
   "metadata": {},
   "outputs": [
    {
     "name": "stdout",
     "output_type": "stream",
     "text": [
      "<U6\n",
      "int64\n"
     ]
    }
   ],
   "source": [
    "# (dtype) te dice de que tipo son los datos\n",
    "\n",
    "matriz_strings=np.array(['apple', 'banana','cherry'])\n",
    "matriz_integers=np.array([1,2,3,4,5,6])\n",
    "\n",
    "print(matriz_strings.dtype)\n",
    "print(matriz_integers.dtype)"
   ]
  },
  {
   "cell_type": "code",
   "execution_count": 81,
   "id": "662545fc",
   "metadata": {},
   "outputs": [
    {
     "name": "stdout",
     "output_type": "stream",
     "text": [
      "[b'1' b'2' b'3' b'4' b'5']\n",
      "|S1\n",
      "[1 2 3 4 5]\n",
      "int32\n"
     ]
    }
   ],
   "source": [
    "#Creación de matrices con un tipo de datos definidos\n",
    "\n",
    "matriz=np.array([1,2,3,4,5], dtype='S')\n",
    "print(matriz)\n",
    "print(matriz.dtype) #Crea una matriz con una cadena de tipo de datos\n",
    "\n",
    "matriz=np.array([1,2,3,4,5], dtype='i4')\n",
    "print(matriz)\n",
    "print(matriz.dtype) #Crea una matriz con datos enteros de 4 bytes"
   ]
  },
  {
   "cell_type": "code",
   "execution_count": 89,
   "id": "c73a0f67",
   "metadata": {},
   "outputs": [
    {
     "name": "stdout",
     "output_type": "stream",
     "text": [
      "[1 2 3]\n",
      "[ True False  True]\n"
     ]
    }
   ],
   "source": [
    "#Conversión de matrices existentes\n",
    "#(astype) esta función crea una copia de la matriz ya existente y le permite especificar el tipo de datos como parámetro\n",
    "\n",
    "#Cambiar de flotante a entero usando 'i'\n",
    "matriz=np.array([1.1, 2.1, 3.1])\n",
    "\n",
    "nueva_matriz= matriz.astype('i')\n",
    "print(nueva_matriz)\n",
    "\n",
    "#Cambiar de entero a booleano\n",
    "matriz=np.array([1, 0, 3])\n",
    "\n",
    "matriz_booleano= matriz.astype(bool)\n",
    "print(matriz_booleano)"
   ]
  },
  {
   "cell_type": "markdown",
   "id": "387bb41a",
   "metadata": {},
   "source": [
    "# **Numpy Copy vs View**"
   ]
  },
  {
   "cell_type": "markdown",
   "id": "d2b3c03f",
   "metadata": {},
   "source": [
    "**COPIAR:** La copia es propietaria de los datos y cualquier cambio realizado en la copia no afectará la matriz original, y cualquier cambio realizado en la matriz original no afectará la copia.\n",
    "\n",
    "\n",
    "**VER:** La vista no es propietaria de los datos y cualquier cambio realizado en la vista afectará a la matriz original, y cualquier cambio realizado en la matriz original afectará la vista.\n",
    "\n",
    "\n"
   ]
  },
  {
   "cell_type": "code",
   "execution_count": 99,
   "id": "535de261",
   "metadata": {},
   "outputs": [
    {
     "name": "stdout",
     "output_type": "stream",
     "text": [
      "COPIAR: \n",
      " [ 1  2  3  4 50  6  7  8  9 10]\n",
      "[ 1  2  3  4  5  6  7  8  9 10]\n",
      "\n",
      "VER:\n",
      " [ 1 20  3  4 50  6  7  8  9 10]\n",
      "[ 1 20  3  4 50  6  7  8  9 10]\n"
     ]
    }
   ],
   "source": [
    "#Ejemplo de copiar una matriz\n",
    "\n",
    "matriz_original=np.array([1,2,3,4,5,6,7,8,9,10])\n",
    "copia_dela_original= matriz_original.copy()\n",
    "matriz_original[4]=50\n",
    "\n",
    "print(\"COPIAR: \\n\",matriz_original)\n",
    "print(copia_dela_original)\n",
    "\n",
    "print()\n",
    "#Ejemplo de ver una matriz\n",
    "\n",
    "matriz_original=np.array([1,2,3,4,5,6,7,8,9,10])\n",
    "ver_original= matriz_original.view()\n",
    "matriz_original[4]=50\n",
    "ver_original[1]=20\n",
    "\n",
    "print(\"VER:\\n\",matriz_original)\n",
    "print(matriz_original)"
   ]
  },
  {
   "cell_type": "code",
   "execution_count": null,
   "id": "8ece925e",
   "metadata": {},
   "outputs": [],
   "source": []
  }
 ],
 "metadata": {
  "kernelspec": {
   "display_name": "Python 3",
   "language": "python",
   "name": "python3"
  },
  "language_info": {
   "codemirror_mode": {
    "name": "ipython",
    "version": 3
   },
   "file_extension": ".py",
   "mimetype": "text/x-python",
   "name": "python",
   "nbconvert_exporter": "python",
   "pygments_lexer": "ipython3",
   "version": "3.8.8"
  },
  "toc": {
   "base_numbering": 1,
   "nav_menu": {},
   "number_sections": false,
   "sideBar": true,
   "skip_h1_title": false,
   "title_cell": "Table of Contents",
   "title_sidebar": "Contents",
   "toc_cell": false,
   "toc_position": {
    "height": "calc(100% - 180px)",
    "left": "10px",
    "top": "150px",
    "width": "230.4px"
   },
   "toc_section_display": true,
   "toc_window_display": true
  }
 },
 "nbformat": 4,
 "nbformat_minor": 5
}
