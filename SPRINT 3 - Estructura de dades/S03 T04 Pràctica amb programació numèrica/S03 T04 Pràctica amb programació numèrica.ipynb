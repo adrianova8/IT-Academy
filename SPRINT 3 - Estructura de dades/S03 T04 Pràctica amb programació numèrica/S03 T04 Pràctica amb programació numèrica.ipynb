{
 "cells": [
  {
   "cell_type": "markdown",
   "id": "299012f8",
   "metadata": {},
   "source": [
    "# **Exercise 1**"
   ]
  },
  {
   "cell_type": "markdown",
   "id": "eeead24f",
   "metadata": {},
   "source": [
    "**STATEMENT:** Create a function that given an Array of a dimension, gives you a basic statistical summary of the data. If it detects that the array has more than one dimension, it should display an error message."
   ]
  },
  {
   "cell_type": "code",
   "execution_count": 19,
   "id": "151745ef",
   "metadata": {},
   "outputs": [
    {
     "name": "stdout",
     "output_type": "stream",
     "text": [
      "The random array has the next appearance: [39 84 68 52 23 64 61 30 86 86] \n",
      "\n",
      "The mean is:  59.3\n",
      "The meadian is:  62.5\n",
      "The mode is:  (86, 2)\n",
      "The standard deviation is:  21.86\n"
     ]
    }
   ],
   "source": [
    "import numpy as np\n",
    "import random \n",
    "import collections\n",
    "\n",
    "random_list=np.array([random.randint(0,100) for i in range(10)]) #1dim\n",
    "\n",
    "def statisticalSummaryOfArray(array):\n",
    "    \n",
    "    if array.ndim==1:\n",
    "        print(\"The mean is: \", round(np.mean(array),2))  #Calculate mean\n",
    "        print(\"The meadian is: \", round(np.median(array),2)) #Calculate median\n",
    "        mode=collections.Counter(array).most_common(1)[0]\n",
    "        print(\"The mode is: \", mode) #Calculate mode with collections' module\n",
    "        print(\"The standard deviation is: \",round(np.std(array),2)) #Calculate standard deviation\n",
    "    else:\n",
    "        print(\"The dimension of the array is different from 1\")\n",
    "        \n",
    "print(\"The random array has the next appearance:\",random_list,\"\\n\")\n",
    "statisticalSummaryOfArray(random_list)\n"
   ]
  },
  {
   "cell_type": "markdown",
   "id": "4df4fee2",
   "metadata": {},
   "source": [
    "# **EXERCISE 2**"
   ]
  },
  {
   "cell_type": "markdown",
   "id": "e8e4284c",
   "metadata": {},
   "source": [
    "**STATEMENT:** Create a function that generates an NxN square of random numbers between 0 and 100."
   ]
  },
  {
   "cell_type": "code",
   "execution_count": 322,
   "id": "25293b77",
   "metadata": {},
   "outputs": [
    {
     "name": "stdout",
     "output_type": "stream",
     "text": [
      "Introduce a number: \n",
      "5\n",
      "The array 5 x 5 is: \n",
      "\n"
     ]
    },
    {
     "data": {
      "text/plain": [
       "[[44, 72, 32, 97, 32],\n",
       " [11, 20, 13, 52, 69],\n",
       " [8, 44, 76, 71, 84],\n",
       " [48, 68, 15, 69, 3],\n",
       " [34, 6, 94, 33, 45]]"
      ]
     },
     "execution_count": 322,
     "metadata": {},
     "output_type": "execute_result"
    }
   ],
   "source": [
    "from random import randint\n",
    "\n",
    "user_number=int(input(\"Introduce a number: \\n\"))\n",
    "\n",
    "def array5x5(number):\n",
    "    array=[] #Create an empty array\n",
    "    \n",
    "    for i in range(number): #We will fill the whole array with the number introduced by the user\n",
    "        row=[] #Create an empty row\n",
    "        for j in range(number):\n",
    "            row.append(randint(0,100)) #For each row we will fill it with the number given by the user \n",
    "        array.append(row) \n",
    "    \n",
    "    return array\n",
    "\n",
    "print(\"The array\",user_number,\"x\",user_number,\"is: \\n\")\n",
    "array5x5(user_number)\n"
   ]
  },
  {
   "cell_type": "markdown",
   "id": "c9044b2e",
   "metadata": {},
   "source": [
    "# **Exercise 3**"
   ]
  },
  {
   "cell_type": "markdown",
   "id": "65230285",
   "metadata": {},
   "source": [
    "**STATEMENT:** Create a function that donated a table of two dimensions, and calculated the totals per row and the totals per column."
   ]
  },
  {
   "cell_type": "code",
   "execution_count": 18,
   "id": "f40e1c02",
   "metadata": {},
   "outputs": [
    {
     "name": "stdout",
     "output_type": "stream",
     "text": [
      "[[74 36 26 36  3]\n",
      " [46 99 13 21 66]\n",
      " [62 44  7  7  4]\n",
      " [20 10 81 71 90]\n",
      " [44 59  4 88 66]]\n",
      "The totals per column:\n",
      " [246 248 131 223 229]\n",
      "The totals per row:\n",
      " [175 245 124 272 261]\n"
     ]
    }
   ],
   "source": [
    "import random\n",
    "\n",
    "# 2-D random matrix \n",
    "random_matrix= np.random.randint(100, size=(5,5))\n",
    "print(random_matrix)\n",
    "\n",
    "#We will calculate the totalas per row and totals per column\n",
    "def sumRowsAndColumns(random_matrix):\n",
    "    sum_of_columns=np.sum(random_matrix, axis=0)\n",
    "    sum_of_rows=np.sum(random_matrix, axis=1)\n",
    "    print(\"The totals per column:\\n\",sum_of_columns)\n",
    "    print(\"The totals per row:\\n\",sum_of_rows)\n",
    "\n",
    "sumRowsAndColumns(random_matrix)"
   ]
  },
  {
   "cell_type": "markdown",
   "id": "706b8722",
   "metadata": {},
   "source": [
    "# **EXERCISE 4**"
   ]
  },
  {
   "cell_type": "markdown",
   "id": "264b92e1",
   "metadata": {},
   "source": [
    "**STATEMENT:** Manually implements a function that calculates the correlation coefficient. Learn about its uses and interpretation."
   ]
  },
  {
   "cell_type": "code",
   "execution_count": 43,
   "id": "85b323fe",
   "metadata": {},
   "outputs": [
    {
     "name": "stdout",
     "output_type": "stream",
     "text": [
      "[[0.49159892 0.23439952 0.06760776]\n",
      " [0.7128582  0.8131152  0.54833668]\n",
      " [0.6343088  0.16919992 0.55433175]]\n",
      "\n",
      "The coeficients of correlation are:\n",
      " [[ 1.          0.51441827  0.28019446]\n",
      " [ 0.51441827  1.         -0.67905203]\n",
      " [ 0.28019446 -0.67905203  1.        ]]\n"
     ]
    }
   ],
   "source": [
    "#Target: find the correlation of a matrix\n",
    "\n",
    "rng=np.random.default_rng(seed=26) #seed () is used to set the seed for the Python pseudo-random number generator algorithm.\n",
    "random_array=rng.random((3,3))\n",
    "print(random_array)\n",
    "\n",
    "#We want to calculate the random_array's correlation \n",
    "\n",
    "def correlationCoeficient(array):\n",
    "    correlation=np.corrcoef(array) \n",
    "    \n",
    "    return correlation\n",
    "\n",
    "print(\"\\nThe coeficients of correlation are:\\n\",correlationCoeficient(random_array))\n"
   ]
  },
  {
   "cell_type": "markdown",
   "id": "04f19f04",
   "metadata": {},
   "source": [
    "**We can access to a concrete matrix of correlations and explain the meaning**\n",
    "\n",
    " - **Explanation:** If we access to 1st column and 3rd column we can say that the coefficients of correlations are the next ones. That means the 2nd row and 1st column have a strong correlation with 0,932. For example, if Y were school dropout and X were students with worst marks, the countries with high levels of students with worst marks have at the same time high levels of school dropouts. The contrary explanation for those countries with low levels of bad students.\n",
    "\n"
   ]
  },
  {
   "cell_type": "code",
   "execution_count": 61,
   "id": "6e68ba4d",
   "metadata": {},
   "outputs": [
    {
     "name": "stdout",
     "output_type": "stream",
     "text": [
      "[[1.         0.93288652]\n",
      " [0.93288652 1.        ]]\n"
     ]
    },
    {
     "data": {
      "text/plain": [
       "0.9328865224496595"
      ]
     },
     "execution_count": 61,
     "metadata": {},
     "output_type": "execute_result"
    }
   ],
   "source": [
    "print(np.corrcoef(random_array[:,0],random_array[:,2]))\n",
    "np.corrcoef(random_array[:,0],random_array[:,2])[1,0] #1 is 2nd row and 0 1st column\n"
   ]
  }
 ],
 "metadata": {
  "kernelspec": {
   "display_name": "Python 3",
   "language": "python",
   "name": "python3"
  },
  "language_info": {
   "codemirror_mode": {
    "name": "ipython",
    "version": 3
   },
   "file_extension": ".py",
   "mimetype": "text/x-python",
   "name": "python",
   "nbconvert_exporter": "python",
   "pygments_lexer": "ipython3",
   "version": "3.8.8"
  },
  "toc": {
   "base_numbering": 1,
   "nav_menu": {},
   "number_sections": false,
   "sideBar": true,
   "skip_h1_title": false,
   "title_cell": "Table of Contents",
   "title_sidebar": "Contents",
   "toc_cell": false,
   "toc_position": {
    "height": "451.2px",
    "left": "215px",
    "top": "175px",
    "width": "212px"
   },
   "toc_section_display": true,
   "toc_window_display": true
  }
 },
 "nbformat": 4,
 "nbformat_minor": 5
}
