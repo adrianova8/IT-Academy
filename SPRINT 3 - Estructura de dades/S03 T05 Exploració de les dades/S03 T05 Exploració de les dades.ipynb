{
 "cells": [
  {
   "cell_type": "markdown",
   "id": "56220c26",
   "metadata": {},
   "source": [
    "# **Dataframe with Pandas' library**"
   ]
  },
  {
   "cell_type": "markdown",
   "id": "1561d337",
   "metadata": {},
   "source": [
    "**BASIC INFORMATION:** Observe data exploration techniques using the data structure, Dataframe with the Pandas library."
   ]
  },
  {
   "cell_type": "markdown",
   "id": "5c2b698d",
   "metadata": {},
   "source": [
    "## Exercise 1"
   ]
  },
  {
   "cell_type": "markdown",
   "id": "5852bac9",
   "metadata": {},
   "source": [
    "**STATEMENT:** Download the Airlines Delay: Airline on-time statistics and delay causes data set and upload it to a Dataframe pandas. Explore the data it contains, and keep only the columns you consider relevant."
   ]
  },
  {
   "cell_type": "code",
   "execution_count": null,
   "id": "155dc0da",
   "metadata": {},
   "outputs": [],
   "source": []
  }
 ],
 "metadata": {
  "kernelspec": {
   "display_name": "Python 3",
   "language": "python",
   "name": "python3"
  },
  "language_info": {
   "codemirror_mode": {
    "name": "ipython",
    "version": 3
   },
   "file_extension": ".py",
   "mimetype": "text/x-python",
   "name": "python",
   "nbconvert_exporter": "python",
   "pygments_lexer": "ipython3",
   "version": "3.8.8"
  },
  "toc": {
   "base_numbering": 1,
   "nav_menu": {},
   "number_sections": false,
   "sideBar": true,
   "skip_h1_title": false,
   "title_cell": "Table of Contents",
   "title_sidebar": "Contents",
   "toc_cell": false,
   "toc_position": {
    "height": "calc(100% - 180px)",
    "left": "10px",
    "top": "150px",
    "width": "254px"
   },
   "toc_section_display": true,
   "toc_window_display": true
  }
 },
 "nbformat": 4,
 "nbformat_minor": 5
}
