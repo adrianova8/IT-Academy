{
 "cells": [
  {
   "cell_type": "markdown",
   "id": "f01788c5",
   "metadata": {},
   "source": [
    "# **Exercise 1**"
   ]
  },
  {
   "cell_type": "markdown",
   "id": "022b7211",
   "metadata": {},
   "source": [
    "**STATEMENT:** The exercise involves creating a program that classifies a numeric variable based on:\n",
    "\n",
    "_Suspended / Approved / Notable / Excellent scale._"
   ]
  },
  {
   "cell_type": "code",
   "execution_count": 5,
   "id": "cfeb52d8",
   "metadata": {
    "scrolled": true
   },
   "outputs": [
    {
     "name": "stdout",
     "output_type": "stream",
     "text": [
      "Introduce the mark of your last exam: \n",
      "3.8\n",
      "your mark is: 3.8 -> SUSPENDED\n"
     ]
    }
   ],
   "source": [
    "#In this exercise we are going to work with if conditional.\n",
    "\n",
    "mark=float(input(\"Introduce the mark of your last exam: \\n\"))\n",
    "\n",
    "if mark<=4.9 and mark>=0:\n",
    "    print(\"your mark is:\", mark, \"-> SUSPENDED\")\n",
    "elif mark<=6.9 and mark>0:\n",
    "    print(\"your mark is:\", mark, \"-> APPROVED\")\n",
    "elif mark<=8.9 and mark>0:\n",
    "    print(\"your mark is:\", mark, \"-> NOTABLE\")\n",
    "elif mark<=10 and mark>0:\n",
    "    print(\"your mark is:\", mark, \"-> EXCELLENT\")\n",
    "else:\n",
    "    print(\"The number must be between 0 and 10\")"
   ]
  },
  {
   "cell_type": "markdown",
   "id": "0507817c",
   "metadata": {},
   "source": [
    "# **Exercise 2**"
   ]
  },
  {
   "cell_type": "markdown",
   "id": "9c9b975f",
   "metadata": {},
   "source": [
    "**STATEMENT:** Using the following Programiz tutorial: Python Input, Output and Import create a program that asks you two numbers. It should show you a message saying if the first one is bigger, the second one is bigger or they are the same."
   ]
  },
  {
   "cell_type": "code",
   "execution_count": 20,
   "id": "08621fb7",
   "metadata": {},
   "outputs": [
    {
     "name": "stdout",
     "output_type": "stream",
     "text": [
      "Introduce a first number:\n",
      "10\n",
      "Introduce a first number:\n",
      "5\n",
      "The number 1 is bigger than number 2\n"
     ]
    }
   ],
   "source": [
    "#In this exercise we are going to work with if conditional.\n",
    "\n",
    "number1=int(input(\"Introduce a first number:\\n\" ))\n",
    "number2=int(input(\"Introduce a first number:\\n\" ))\n",
    "\n",
    "if number1>number2:\n",
    "    print(\"The number 1 is bigger than number 2\")\n",
    "elif number1==number2:\n",
    "    print(\"The number 1 is equal to number 2\")\n",
    "else:\n",
    "    print(\"The number 1 is smaller to number 2\")"
   ]
  },
  {
   "cell_type": "markdown",
   "id": "27e5107b",
   "metadata": {},
   "source": [
    "# **Exercise 3**"
   ]
  },
  {
   "cell_type": "markdown",
   "id": "92d3bd1b",
   "metadata": {},
   "source": [
    " **STATEMENT:** Create a program that asks you for your name, and asks you for a number. If the number is 0, it should display an error message. Otherwise, it should display the repeated name as many times as the number indicates. For example, “Joan Joan Joan”."
   ]
  },
  {
   "cell_type": "code",
   "execution_count": 4,
   "id": "22ce5db2",
   "metadata": {},
   "outputs": [
    {
     "name": "stdout",
     "output_type": "stream",
     "text": [
      "Introduce your name: ADRIA NOVA PAGÉS \n",
      "Introduce a number between 1-10: 5\n",
      "My name is ADRIA NOVA PAGÉS \n",
      "My name is ADRIA NOVA PAGÉS \n",
      "My name is ADRIA NOVA PAGÉS \n",
      "My name is ADRIA NOVA PAGÉS \n",
      "My name is ADRIA NOVA PAGÉS \n"
     ]
    }
   ],
   "source": [
    "#In this exercise we are going to work with a for loop.\n",
    "\n",
    "name=input(\"Introduce your name: \")\n",
    "number=int(input(\"Introduce a number between 1-10: \"))\n",
    "\n",
    "number_range=range(number)\n",
    "\n",
    "if number==0:\n",
    "        print(\"Error: This number is not admisible\")\n",
    "else: \n",
    "    for i in number_range:  \n",
    "        print(\"My name is {}\".format(name))"
   ]
  },
  {
   "cell_type": "markdown",
   "id": "a0091d56",
   "metadata": {},
   "source": [
    "# **Exercise 4**"
   ]
  },
  {
   "cell_type": "markdown",
   "id": "ed5307d9",
   "metadata": {},
   "source": [
    "**STATEMENT:** Create a program that given any list, tells you if it is symmetrical or not. If so, let me tell you how many items it has."
   ]
  },
  {
   "cell_type": "code",
   "execution_count": 159,
   "id": "2fcd3a03",
   "metadata": {},
   "outputs": [
    {
     "name": "stdout",
     "output_type": "stream",
     "text": [
      "Introduce a word: \n",
      "TENET\n",
      "['T', 'E', 'N', 'E', 'T']\n",
      "['T', 'E', 'N', 'E', 'T']\n",
      "The list is symetric with 5 elements\n"
     ]
    }
   ],
   "source": [
    "#OFICIAL EXERCISE 4\n",
    "\n",
    "string=input(\"Introduce a word: \\n\")\n",
    "\n",
    "character_list=[]\n",
    "reversed_character_list=[]\n",
    "\n",
    "for i in string:\n",
    "    character_list.append(i)\n",
    "print(character_list)\n",
    "\n",
    "reverse_word=reversed(character_list)\n",
    "\n",
    "for i in reverse_word:\n",
    "    reversed_character_list.append(i)\n",
    "    \n",
    "print(reversed_character_list)\n",
    "\n",
    "if character_list==reversed_character_list:\n",
    "    print(\"The list is symetric with\", len(character_list), \"elements\")\n",
    "else:\n",
    "    print(\"The list is NOT symetric with\")\n",
    "    "
   ]
  },
  {
   "cell_type": "code",
   "execution_count": 80,
   "id": "531bd18f",
   "metadata": {},
   "outputs": [
    {
     "name": "stdout",
     "output_type": "stream",
     "text": [
      "How many numbers do you want on the list (0-5)? 4\n",
      "[5, 4, 4, 5]\n",
      "True \n",
      "The symetric list has  4 numbers\n"
     ]
    }
   ],
   "source": [
    "#NOT OFICIAL EXERCISE (MORE PRACTICE)\n",
    "import random\n",
    "\n",
    "number_entered_by_user=int(input(\"How many numbers do you want on the list (0-5)? \"))\n",
    "\n",
    "#Create the random list.\n",
    "def listOfNumbers(n):\n",
    "    while n<=0 or n>5:\n",
    "        n=int(input(\"Error! The number is not admissible, try again:\"))\n",
    "   \n",
    "    list_of_numbers=[0] * n\n",
    "    for i in range(n):\n",
    "        list_of_numbers[i]=random.randint(0,5)\n",
    "                \n",
    "    return list_of_numbers\n",
    "\n",
    "list_of_numbers=listOfNumbers(number_entered_by_user)\n",
    "print(list_of_numbers)\n",
    "\n",
    "#Check if the list is symetric or not. We use a boolean function that returns true if it is symetric and false on the contrary\n",
    "\n",
    "def symetricListOfNumbers(list_of_numbers):\n",
    "    if len(list_of_numbers)<2:\n",
    "        return True\n",
    "    elif list_of_numbers[0] == list_of_numbers[-1]:\n",
    "        return symetricListOfNumbers(list_of_numbers[1:-1])\n",
    "    else:\n",
    "        return False\n",
    "    \n",
    "if symetricListOfNumbers(list_of_numbers)==True:\n",
    "    print(symetricListOfNumbers(list_of_numbers), \"\\nThe symetric list has \",len(list_of_numbers), \"numbers\")\n",
    "else: \n",
    "    print(symetricListOfNumbers(list_of_numbers), \"\\nThe list is not symetric\")"
   ]
  },
  {
   "cell_type": "markdown",
   "id": "edd8344c",
   "metadata": {},
   "source": [
    "# **Exercise 5**"
   ]
  },
  {
   "cell_type": "markdown",
   "id": "729caa29",
   "metadata": {},
   "source": [
    "**STATEMENT:** Create a program that given a list, tells you how many numbers match your position. For example [3,4,2,0,2,3,6] 2 and 6 coincide."
   ]
  },
  {
   "cell_type": "code",
   "execution_count": 132,
   "id": "75b34fbe",
   "metadata": {},
   "outputs": [
    {
     "name": "stdout",
     "output_type": "stream",
     "text": [
      "Introduce a number to create a list with this number (0-10): 10\n",
      "[4, 10, 1, 1, 1, 10, 6, 7, 8, 1]\n",
      "There are 3 numbers that their position matches the number\n"
     ]
    }
   ],
   "source": [
    "#First: we ask for a number and create the list with this number given.\n",
    "\n",
    "user_number=int(input(\"Introduce a number to create a list with this number (0-10): \"))\n",
    "\n",
    "def randomList(number):\n",
    "    while number<=0 or number>20:\n",
    "        number=int(input(\"Error! The number is not admissible, try again:\"))\n",
    "   \n",
    "    number_list=[]\n",
    "    for i in range(number):\n",
    "        number_list.insert(i, random.randint(0,10))\n",
    "    return number_list\n",
    "\n",
    "list_numbers=randomList(user_number)\n",
    "print(list_numbers)\n",
    "\n",
    "#Second: find the position of each number and see if there is a coincidence between the number and the position.\n",
    "\n",
    "meter=0\n",
    "\n",
    "for index,number in enumerate(list_numbers):\n",
    "    if index==number:\n",
    "        meter+=1\n",
    "print(\"There are\", meter, \"numbers that their position matches the number\")"
   ]
  }
 ],
 "metadata": {
  "kernelspec": {
   "display_name": "Python 3",
   "language": "python",
   "name": "python3"
  },
  "language_info": {
   "codemirror_mode": {
    "name": "ipython",
    "version": 3
   },
   "file_extension": ".py",
   "mimetype": "text/x-python",
   "name": "python",
   "nbconvert_exporter": "python",
   "pygments_lexer": "ipython3",
   "version": "3.8.8"
  },
  "toc": {
   "base_numbering": "1",
   "nav_menu": {},
   "number_sections": false,
   "sideBar": true,
   "skip_h1_title": false,
   "title_cell": "Table of Contents",
   "title_sidebar": "Contents",
   "toc_cell": false,
   "toc_position": {
    "height": "calc(100% - 180px)",
    "left": "10px",
    "top": "150px",
    "width": "165px"
   },
   "toc_section_display": true,
   "toc_window_display": true
  }
 },
 "nbformat": 4,
 "nbformat_minor": 5
}
