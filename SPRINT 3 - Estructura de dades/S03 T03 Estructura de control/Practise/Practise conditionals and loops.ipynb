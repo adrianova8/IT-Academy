{
 "cells": [
  {
   "cell_type": "markdown",
   "id": "2e54420f",
   "metadata": {},
   "source": [
    "**CONDITIONALS**"
   ]
  },
  {
   "cell_type": "markdown",
   "id": "1c413aed",
   "metadata": {},
   "source": [
    "_TERNARY OPERATOR_"
   ]
  },
  {
   "cell_type": "code",
   "execution_count": 4,
   "id": "b457114f",
   "metadata": {},
   "outputs": [
    {
     "name": "stdout",
     "output_type": "stream",
     "text": [
      "2.5\n"
     ]
    }
   ],
   "source": [
    "a=10\n",
    "b=4\n",
    "c=a/b if b!=0 else -1 #The condition is satisfied\n",
    "print(c) "
   ]
  },
  {
   "cell_type": "code",
   "execution_count": 41,
   "id": "3ef8c179",
   "metadata": {},
   "outputs": [
    {
     "name": "stdout",
     "output_type": "stream",
     "text": [
      "Introduce a number:12\n",
      "11\n"
     ]
    }
   ],
   "source": [
    "#Decrease X in 1 unit if is higher than 0\n",
    "x=int(input(\"Introduce a number:\"))\n",
    "x-=1 if x>0 else print(x)\n",
    "print(x)"
   ]
  },
  {
   "cell_type": "markdown",
   "id": "1af85441",
   "metadata": {},
   "source": [
    "**BUCLES**"
   ]
  },
  {
   "cell_type": "markdown",
   "id": "5b8898e6",
   "metadata": {},
   "source": [
    "_BUCLE **FOR**_"
   ]
  },
  {
   "cell_type": "code",
   "execution_count": 3,
   "id": "efd33206",
   "metadata": {},
   "outputs": [
    {
     "name": "stdout",
     "output_type": "stream",
     "text": [
      "0\n",
      "1\n",
      "2\n",
      "3\n",
      "4\n"
     ]
    }
   ],
   "source": [
    "for i in range(5):\n",
    "    print(i)"
   ]
  },
  {
   "cell_type": "code",
   "execution_count": 13,
   "id": "c4981869",
   "metadata": {},
   "outputs": [
    {
     "name": "stdout",
     "output_type": "stream",
     "text": [
      "<str_iterator object at 0x7fdd29531970>\n",
      "a\n",
      "d\n",
      "r\n",
      "i\n",
      "a\n"
     ]
    },
    {
     "ename": "StopIteration",
     "evalue": "",
     "output_type": "error",
     "traceback": [
      "\u001b[0;31m---------------------------------------------------------------------------\u001b[0m",
      "\u001b[0;31mStopIteration\u001b[0m                             Traceback (most recent call last)",
      "\u001b[0;32m<ipython-input-13-117208799f05>\u001b[0m in \u001b[0;36m<module>\u001b[0;34m\u001b[0m\n\u001b[1;32m      8\u001b[0m \u001b[0mprint\u001b[0m\u001b[0;34m(\u001b[0m\u001b[0mnext\u001b[0m\u001b[0;34m(\u001b[0m\u001b[0miterator\u001b[0m\u001b[0;34m)\u001b[0m\u001b[0;34m)\u001b[0m\u001b[0;34m\u001b[0m\u001b[0;34m\u001b[0m\u001b[0m\n\u001b[1;32m      9\u001b[0m \u001b[0mprint\u001b[0m\u001b[0;34m(\u001b[0m\u001b[0mnext\u001b[0m\u001b[0;34m(\u001b[0m\u001b[0miterator\u001b[0m\u001b[0;34m)\u001b[0m\u001b[0;34m)\u001b[0m\u001b[0;34m\u001b[0m\u001b[0;34m\u001b[0m\u001b[0m\n\u001b[0;32m---> 10\u001b[0;31m \u001b[0mprint\u001b[0m\u001b[0;34m(\u001b[0m\u001b[0mnext\u001b[0m\u001b[0;34m(\u001b[0m\u001b[0miterator\u001b[0m\u001b[0;34m)\u001b[0m\u001b[0;34m)\u001b[0m\u001b[0;34m\u001b[0m\u001b[0;34m\u001b[0m\u001b[0m\n\u001b[0m",
      "\u001b[0;31mStopIteration\u001b[0m: "
     ]
    }
   ],
   "source": [
    "#Para ver como funciona un bucle for por detrás (iterador) hacemos el siguiente ejemplo:\n",
    "name='adria'\n",
    "iterator=iter(name) #ITER es la función que invoca al objeto contenedor\n",
    "print(iterator)\n",
    "print(next(iterator))\n",
    "print(next(iterator))\n",
    "print(next(iterator))\n",
    "print(next(iterator))\n",
    "print(next(iterator))\n",
    "print(next(iterator))\n"
   ]
  },
  {
   "cell_type": "markdown",
   "id": "9fdaa0eb",
   "metadata": {},
   "source": [
    "_RANGE_"
   ]
  },
  {
   "cell_type": "code",
   "execution_count": 19,
   "id": "8636cc91",
   "metadata": {},
   "outputs": [
    {
     "name": "stdout",
     "output_type": "stream",
     "text": [
      "[5, 7, 9, 11, 13, 15, 17, 19]\n",
      "5\n",
      "7\n",
      "9\n",
      "11\n",
      "13\n",
      "15\n",
      "17\n",
      "19\n"
     ]
    }
   ],
   "source": [
    "range(5,20,2)\n",
    "print(list(range(5,20,2)))\n",
    "for i in range(5,20,2):\n",
    "    print(i)"
   ]
  },
  {
   "cell_type": "markdown",
   "id": "2372be52",
   "metadata": {},
   "source": [
    "_WHILE_ AND _ELSE AND WHILE_\n"
   ]
  },
  {
   "cell_type": "code",
   "execution_count": 27,
   "id": "72f8249e",
   "metadata": {},
   "outputs": [
    {
     "name": "stdout",
     "output_type": "stream",
     "text": [
      "5\n",
      "4\n",
      "3\n",
      "2\n",
      "1\n"
     ]
    }
   ],
   "source": [
    "x=5\n",
    "while x>0:\n",
    "    print(x)\n",
    "    x-=1"
   ]
  },
  {
   "cell_type": "code",
   "execution_count": 36,
   "id": "cfc26a62",
   "metadata": {},
   "outputs": [
    {
     "name": "stdout",
     "output_type": "stream",
     "text": [
      "['Two', 'Three']\n",
      "['Three']\n",
      "[]\n"
     ]
    }
   ],
   "source": [
    "x=[\"One\", \"Two\", \"Three\"]\n",
    "while x:\n",
    "    x.pop(0)\n",
    "    print(x)"
   ]
  },
  {
   "cell_type": "code",
   "execution_count": 37,
   "id": "58789bfc",
   "metadata": {},
   "outputs": [
    {
     "name": "stdout",
     "output_type": "stream",
     "text": [
      "5\n",
      "4\n",
      "3\n",
      "2\n",
      "1\n",
      "The bucle has finished\n"
     ]
    }
   ],
   "source": [
    "x=5\n",
    "while x>0:\n",
    "    print(x)\n",
    "    x-=1\n",
    "else: \n",
    "    print(\"The bucle has finished\")"
   ]
  },
  {
   "cell_type": "code",
   "execution_count": 43,
   "id": "fde2513b",
   "metadata": {},
   "outputs": [
    {
     "name": "stdout",
     "output_type": "stream",
     "text": [
      "5\n",
      "4\n",
      "3\n",
      "2\n",
      "1\n"
     ]
    }
   ],
   "source": [
    "x=5\n",
    "while True:\n",
    "    print(x)\n",
    "    x-=1\n",
    "    if x==0:\n",
    "        break\n",
    "else:\n",
    "    print(\"The bucle has finished\") #el print no se ejecuta porque cuando x=0 se sale del bucle\n"
   ]
  },
  {
   "cell_type": "code",
   "execution_count": 44,
   "id": "7010af6f",
   "metadata": {},
   "outputs": [
    {
     "name": "stdout",
     "output_type": "stream",
     "text": [
      "0 0\n",
      "0 1\n",
      "0 2\n",
      "1 0\n",
      "1 1\n",
      "1 2\n",
      "2 0\n",
      "2 1\n",
      "2 2\n"
     ]
    }
   ],
   "source": [
    "i=0\n",
    "j=0\n",
    "while i<3:\n",
    "    while j<3:\n",
    "        print(i,j)\n",
    "        j+=1\n",
    "    i+=1\n",
    "    j=0"
   ]
  },
  {
   "cell_type": "code",
   "execution_count": 47,
   "id": "343fd742",
   "metadata": {},
   "outputs": [
    {
     "name": "stdout",
     "output_type": "stream",
     "text": [
      "0 0 0\n",
      "0 1 1\n",
      "0 2 2\n",
      "1 0 0\n",
      "1 1 1\n",
      "1 2 2\n",
      "2 0 0\n",
      "2 1 1\n",
      "2 2 2\n"
     ]
    }
   ],
   "source": [
    "#Lo mismo pero con 3 bucles \n",
    "i, j, k = 0, 0, 0\n",
    "while i < 3:\n",
    "    while j < 3:\n",
    "        while k < 3:\n",
    "            print(i,j,k)\n",
    "            k += 1\n",
    "            j += 1\n",
    "        k = 0\n",
    "    i += 1\n",
    "    j = 0"
   ]
  },
  {
   "cell_type": "code",
   "execution_count": 54,
   "id": "61080985",
   "metadata": {},
   "outputs": [
    {
     "name": "stdout",
     "output_type": "stream",
     "text": [
      "       *       \n",
      "      ***      \n",
      "     *****     \n",
      "    *******    \n",
      "   *********   \n",
      "  ***********  \n",
      " ************* \n"
     ]
    }
   ],
   "source": [
    "#Christmas tree\n",
    "z=7\n",
    "x=1\n",
    "while z>0:\n",
    "    print(' ' * z + '*' * x + ' ' * z )\n",
    "    x+=2\n",
    "    z-=1\n",
    "    \n",
    "    "
   ]
  },
  {
   "cell_type": "code",
   "execution_count": 59,
   "id": "a1ae0ec1",
   "metadata": {},
   "outputs": [
    {
     "name": "stdout",
     "output_type": "stream",
     "text": [
      "P\n",
      "Py\n",
      "Pyt\n",
      "Pyth\n",
      "Pytho\n",
      "Python\n"
     ]
    }
   ],
   "source": [
    "text=\"Python\"\n",
    "i=0\n",
    "while i < len(text):\n",
    "    print(text[:i + 1])\n",
    "    i+=1"
   ]
  },
  {
   "cell_type": "code",
   "execution_count": 1,
   "id": "eb462264",
   "metadata": {
    "code_folding": []
   },
   "outputs": [
    {
     "name": "stdout",
     "output_type": "stream",
     "text": [
      "1\n",
      "1\n",
      "2\n",
      "3\n",
      "5\n",
      "8\n",
      "13\n",
      "21\n"
     ]
    }
   ],
   "source": [
    "a=0\n",
    "b =1\n",
    "while b < 25:\n",
    "    print(b)\n",
    "    c=a+b\n",
    "    a=b\n",
    "    b=c"
   ]
  },
  {
   "cell_type": "markdown",
   "id": "c1dad600",
   "metadata": {},
   "source": [
    "_SWITCH_"
   ]
  },
  {
   "cell_type": "code",
   "execution_count": 4,
   "id": "a2c11424",
   "metadata": {},
   "outputs": [
    {
     "data": {
      "text/plain": [
       "2.0"
      ]
     },
     "execution_count": 4,
     "metadata": {},
     "output_type": "execute_result"
    }
   ],
   "source": [
    "def opera1(operador, a, b):\n",
    "    if operador == 'suma':\n",
    "        return a + b\n",
    "    elif operador == 'resta':\n",
    "        return a - b\n",
    "    elif operador == 'multiplica':\n",
    "        return a * b\n",
    "    elif operador == 'divide':\n",
    "        return a / b\n",
    "    else:\n",
    "        return None\n",
    "opera1('divide', 10, 5)"
   ]
  },
  {
   "cell_type": "code",
   "execution_count": 9,
   "id": "a6c55ee3",
   "metadata": {},
   "outputs": [
    {
     "data": {
      "text/plain": [
       "9"
      ]
     },
     "execution_count": 9,
     "metadata": {},
     "output_type": "execute_result"
    }
   ],
   "source": [
    "def opera2(operador, a, b):\n",
    "    return {\n",
    "        'suma': lambda: a + b,\n",
    "        'resta': lambda: a - b,\n",
    "        'multiplica': lambda: a * b,\n",
    "        'divide': lambda: a / b\n",
    "    }.get(operador, lambda: None)\n",
    "opera2('suma',4,5)()"
   ]
  },
  {
   "cell_type": "markdown",
   "id": "bced3ae0",
   "metadata": {},
   "source": [
    "_BREAK Y BUCLE ANIDADO_"
   ]
  },
  {
   "cell_type": "code",
   "execution_count": 11,
   "id": "d524d438",
   "metadata": {},
   "outputs": [
    {
     "name": "stdout",
     "output_type": "stream",
     "text": [
      "0 0\n",
      "1 0\n",
      "2 0\n",
      "3 0\n"
     ]
    }
   ],
   "source": [
    "for i in range(4):\n",
    "    for j in range(4):\n",
    "        break\n",
    "        #Nunca se realiza más de una iteración\n",
    "    # El break no afecta a este for\n",
    "    print(i, j)"
   ]
  },
  {
   "cell_type": "markdown",
   "id": "a99283f1",
   "metadata": {},
   "source": [
    "_CONTINUE_"
   ]
  },
  {
   "cell_type": "code",
   "execution_count": 2,
   "id": "fc16d55a",
   "metadata": {},
   "outputs": [
    {
     "name": "stdout",
     "output_type": "stream",
     "text": [
      "4\n",
      "2\n",
      "1\n",
      "0\n"
     ]
    }
   ],
   "source": [
    "x=5\n",
    "while x>0:\n",
    "    x-=1\n",
    "    if x==3:\n",
    "        continue\n",
    "    print(x)"
   ]
  },
  {
   "cell_type": "markdown",
   "id": "f407231a",
   "metadata": {},
   "source": [
    "_ITERAR CON ZIN EN PYTHON_"
   ]
  },
  {
   "cell_type": "code",
   "execution_count": 6,
   "id": "c942fcb0",
   "metadata": {},
   "outputs": [
    {
     "name": "stdout",
     "output_type": "stream",
     "text": [
      "Número 1 Letra Uno\n",
      "Número 2 Letra Dos\n"
     ]
    }
   ],
   "source": [
    "a = [1, 2]\n",
    "b = [\"Uno\", \"Dos\"]\n",
    "c = zip(a, b)\n",
    "\n",
    "for numero, texto in c:\n",
    "    print(\"Número\", numero, \"Letra\", texto)"
   ]
  },
  {
   "cell_type": "code",
   "execution_count": 8,
   "id": "f2c804c7",
   "metadata": {},
   "outputs": [
    {
     "name": "stdout",
     "output_type": "stream",
     "text": [
      "Uno One\n",
      "Dos Two\n",
      "Tres Three\n"
     ]
    }
   ],
   "source": [
    "#Con diccionarios\n",
    "esp={'Uno':'1','Dos':'2','Tres':'3'}\n",
    "eng={'One':'1','Two':'2','Three':'3'}\n",
    "\n",
    "for a,b in zip(esp,eng):\n",
    "    print(a,b)\n",
    "#Solo aparecerán las llaves"
   ]
  },
  {
   "cell_type": "code",
   "execution_count": 19,
   "id": "a3b04437",
   "metadata": {},
   "outputs": [
    {
     "name": "stdout",
     "output_type": "stream",
     "text": [
      "1 Uno One\n",
      "2 Dos Two\n",
      "3 Tres Three\n"
     ]
    }
   ],
   "source": [
    "#Diccionarios donde aparezcan los articulos\n",
    "esp={'1':'Uno','2':'Dos','3':'Tres'}\n",
    "eng={'1':'One','2':'Two','3':'Three'}\n",
    "\n",
    "for (k1,v1), (k2,v2) in zip(esp.items(), eng.items()):\n",
    "    print(k1,v1,v2)"
   ]
  },
  {
   "cell_type": "markdown",
   "id": "b8e2c50a",
   "metadata": {},
   "source": [
    "_LIST COMPREHENSIONS_"
   ]
  },
  {
   "cell_type": "code",
   "execution_count": 21,
   "id": "2a2b5174",
   "metadata": {},
   "outputs": [
    {
     "name": "stdout",
     "output_type": "stream",
     "text": [
      "['r', 'r', 'r', 'r']\n"
     ]
    }
   ],
   "source": [
    "#Condicionales\n",
    "frase = \"El perro de san roque no tiene rabo\"\n",
    "erres = [i for i in frase if i == 'r']\n",
    "print(erres)"
   ]
  },
  {
   "cell_type": "code",
   "execution_count": 22,
   "id": "71bc0dc0",
   "metadata": {},
   "outputs": [
    {
     "name": "stdout",
     "output_type": "stream",
     "text": [
      "{'r'}\n"
     ]
    }
   ],
   "source": [
    "#set\n",
    "frase = \"El perro de san roque no tiene rabo\"\n",
    "erres = {i for i in frase if i == 'r'}\n",
    "print(erres)"
   ]
  },
  {
   "cell_type": "code",
   "execution_count": 24,
   "id": "faaa7597",
   "metadata": {},
   "outputs": [
    {
     "name": "stdout",
     "output_type": "stream",
     "text": [
      "{'nombre': 'Pelayo', 'edad': 30, 'región': 'Asturias'}\n"
     ]
    }
   ],
   "source": [
    "#diccionario\n",
    "lista1 = ['nombre', 'edad', 'región']\n",
    "lista2 = ['Pelayo', 30, 'Asturias']\n",
    "\n",
    "mi_dict = {i:j for i,j in zip(lista1, lista2)}\n",
    "print(mi_dict)"
   ]
  },
  {
   "cell_type": "markdown",
   "id": "1d4357f3",
   "metadata": {},
   "source": [
    "_ITERADORES_"
   ]
  },
  {
   "cell_type": "code",
   "execution_count": 25,
   "id": "104bf65c",
   "metadata": {},
   "outputs": [
    {
     "name": "stdout",
     "output_type": "stream",
     "text": [
      "<list_iterator object at 0x7fbeba155af0>\n"
     ]
    }
   ],
   "source": [
    "libro = ['página1', 'página2', 'página3', 'página4']\n",
    "marcapaginas = iter(libro)\n",
    "print(marcapaginas)"
   ]
  },
  {
   "cell_type": "code",
   "execution_count": null,
   "id": "0dc93389",
   "metadata": {},
   "outputs": [],
   "source": []
  }
 ],
 "metadata": {
  "kernelspec": {
   "display_name": "Python 3",
   "language": "python",
   "name": "python3"
  },
  "language_info": {
   "codemirror_mode": {
    "name": "ipython",
    "version": 3
   },
   "file_extension": ".py",
   "mimetype": "text/x-python",
   "name": "python",
   "nbconvert_exporter": "python",
   "pygments_lexer": "ipython3",
   "version": "3.8.8"
  },
  "toc": {
   "base_numbering": 1,
   "nav_menu": {},
   "number_sections": true,
   "sideBar": true,
   "skip_h1_title": false,
   "title_cell": "Table of Contents",
   "title_sidebar": "Contents",
   "toc_cell": false,
   "toc_position": {},
   "toc_section_display": true,
   "toc_window_display": false
  }
 },
 "nbformat": 4,
 "nbformat_minor": 5
}
