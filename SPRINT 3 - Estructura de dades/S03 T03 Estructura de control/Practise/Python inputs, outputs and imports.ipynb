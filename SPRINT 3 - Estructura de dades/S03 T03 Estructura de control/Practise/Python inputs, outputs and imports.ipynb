{
 "cells": [
  {
   "cell_type": "markdown",
   "id": "9ec93295",
   "metadata": {},
   "source": [
    "**OUTPUT FORMAT**"
   ]
  },
  {
   "cell_type": "code",
   "execution_count": 1,
   "id": "3eecab5e",
   "metadata": {},
   "outputs": [
    {
     "name": "stdout",
     "output_type": "stream",
     "text": [
      "I love bread and butter\n",
      "I love butter and bread\n"
     ]
    }
   ],
   "source": [
    "#Usamos el .format() para hacer que las salidas queden más bonitas\n",
    "print(\"I love {0} and {1}\".format(\"bread\",\"butter\"))\n",
    "print(\"I love {1} and {0}\".format(\"bread\",\"butter\"))"
   ]
  },
  {
   "cell_type": "code",
   "execution_count": 2,
   "id": "c5afa054",
   "metadata": {},
   "outputs": [
    {
     "name": "stdout",
     "output_type": "stream",
     "text": [
      "Hello ADRIA, GOOD MOORNING\n"
     ]
    }
   ],
   "source": [
    "print('Hello {name}, {greeting}'.format(name=\"ADRIA\", greeting=\"GOOD MOORNING\"))"
   ]
  },
  {
   "cell_type": "code",
   "execution_count": 8,
   "id": "ae782a62",
   "metadata": {},
   "outputs": [
    {
     "name": "stdout",
     "output_type": "stream",
     "text": [
      "The value of x is 12.57\n",
      "The value of x is 12.5679\n"
     ]
    }
   ],
   "source": [
    "x=12.56793\n",
    "print(\"The value of x is %3.2f\" %x)\n",
    "print(\"The value of x is %3.4f\" %x)"
   ]
  },
  {
   "cell_type": "code",
   "execution_count": null,
   "id": "9447cc85",
   "metadata": {},
   "outputs": [],
   "source": []
  }
 ],
 "metadata": {
  "kernelspec": {
   "display_name": "Python 3",
   "language": "python",
   "name": "python3"
  },
  "language_info": {
   "codemirror_mode": {
    "name": "ipython",
    "version": 3
   },
   "file_extension": ".py",
   "mimetype": "text/x-python",
   "name": "python",
   "nbconvert_exporter": "python",
   "pygments_lexer": "ipython3",
   "version": "3.8.8"
  },
  "toc": {
   "base_numbering": 1,
   "nav_menu": {},
   "number_sections": true,
   "sideBar": true,
   "skip_h1_title": false,
   "title_cell": "Table of Contents",
   "title_sidebar": "Contents",
   "toc_cell": false,
   "toc_position": {},
   "toc_section_display": true,
   "toc_window_display": false
  }
 },
 "nbformat": 4,
 "nbformat_minor": 5
}
